{
 "cells": [
  {
   "cell_type": "code",
   "execution_count": 69,
   "metadata": {
    "collapsed": true
   },
   "outputs": [],
   "source": [
    "import plotly.plotly as py\n",
    "#import plotly.offline as py\n",
    "from plotly.graph_objs import *\n",
    "import plotly\n",
    "import networkx as nx\n",
    "import numpy as np\n",
    "import random as rnd\n",
    "plotly.tools.set_credentials_file(username='your_username', api_key='your_api_key')\n",
    "#create your credentials into https://plot.ly/#/"
   ]
  },
  {
   "cell_type": "markdown",
   "metadata": {},
   "source": [
    "# Set graph and your properties"
   ]
  },
  {
   "cell_type": "code",
   "execution_count": 70,
   "metadata": {
    "collapsed": false
   },
   "outputs": [],
   "source": [
    "G=nx.read_graphml('graphG.graphml')"
   ]
  },
  {
   "cell_type": "code",
   "execution_count": 71,
   "metadata": {
    "collapsed": false
   },
   "outputs": [],
   "source": [
    "nodes = G.nodes(data=True)\n",
    "x = nx.get_node_attributes(G,\"longitude\")\n",
    "y = nx.get_node_attributes(G,\"latitude\")\n",
    "z = nx.get_node_attributes(G,\"zaxis\")\n",
    "pos = x\n",
    "for i in range(len(x)):\n",
    "    j = nodes[i][0]\n",
    "    pos[j]=(x[j],y[j],z[j])\n",
    "nx.set_node_attributes(G,'pos',pos)"
   ]
  },
  {
   "cell_type": "code",
   "execution_count": 72,
   "metadata": {
    "collapsed": false
   },
   "outputs": [],
   "source": [
    "#set center lattice cubic\n",
    "dmin=1\n",
    "ncenter=0\n",
    "for n in pos:\n",
    "    x,y,z=pos[n]\n",
    "    d=(x-0.5)**2+(y-0.5)**2+(z-0.5)**2\n",
    "    if d<dmin:\n",
    "        ncenter=n\n",
    "        dmin=d"
   ]
  },
  {
   "cell_type": "code",
   "execution_count": 62,
   "metadata": {
    "collapsed": false
   },
   "outputs": [],
   "source": [
    "p=nx.single_source_shortest_path_length(G,ncenter)\n",
    "edge_trace = Scatter3d(\n",
    "    x=[],\n",
    "    y=[],\n",
    "    z=[],\n",
    "    line=Line(width=2.0,color='red'),\n",
    "    #line=Line(width=1.0,color='#888'),\n",
    "    hoverinfo='none',\n",
    "    mode='lines')"
   ]
  },
  {
   "cell_type": "markdown",
   "metadata": {},
   "source": [
    "# Determine SCC clusters"
   ]
  },
  {
   "cell_type": "code",
   "execution_count": 73,
   "metadata": {
    "collapsed": false
   },
   "outputs": [],
   "source": [
    "scc = sorted(nx.strongly_connected_components(G),key=len,reverse=True)\n",
    "nodes = G.nodes()\n",
    "component = nx.get_node_attributes(G,'x')\n",
    "colors = []\n",
    "opacities = []\n",
    "order=0\n",
    "for i in scc:\n",
    "    for j in list(i):\n",
    "        idn = j\n",
    "        component[idn]=order\n",
    "        if(order>0):\n",
    "            colors.append(\"gray\")\n",
    "            opacities.append(1.0)\n",
    "        else:\n",
    "            colors.append(\"blue\")\n",
    "            opacities.append(0.5)\n",
    "    order+=1\n",
    "nx.set_node_attributes(G,'component',component)"
   ]
  },
  {
   "cell_type": "code",
   "execution_count": 74,
   "metadata": {
    "collapsed": false
   },
   "outputs": [],
   "source": [
    "for edge in G.edges():\n",
    "    x0, y0, z0 = G.node[edge[0]]['pos']\n",
    "    x1, y1, z1 = G.node[edge[1]]['pos']\n",
    "    edge_trace['x'] += [x0, x1, None]\n",
    "    edge_trace['y'] += [y0, y1, None]\n",
    "    edge_trace['z'] += [z0, z1, None]"
   ]
  },
  {
   "cell_type": "code",
   "execution_count": 75,
   "metadata": {
    "collapsed": false
   },
   "outputs": [],
   "source": [
    "node_trace = Scatter3d(\n",
    "    x=[],\n",
    "    y=[],\n",
    "    z=[],\n",
    "    text=[],\n",
    "    mode='markers',\n",
    "    hoverinfo='text',\n",
    "    marker=Marker(\n",
    "        showscale=True,\n",
    "        # colorscale options\n",
    "        # 'Greys' | 'Greens' | 'Bluered' | 'Hot' | 'Picnic' | 'Portland' |\n",
    "        # Jet' | 'RdBu' | 'Blackbody' | 'Earth' | 'Electric' | 'YIOrRd' | 'YIGnBu'\n",
    "        colorscale='Blackbody',\n",
    "        reversescale=True,\n",
    "        color=colors,\n",
    "        opacity=0.5,\n",
    "        size=10,\n",
    "        colorbar=dict(\n",
    "            thickness=15,\n",
    "            title='Node Connections',\n",
    "            xanchor='left',\n",
    "            titleside='right'\n",
    "        ),\n",
    "        line=dict(width=0)))"
   ]
  },
  {
   "cell_type": "code",
   "execution_count": 66,
   "metadata": {
    "collapsed": true
   },
   "outputs": [],
   "source": [
    "for node in G.nodes():\n",
    "    x, y, z = G.node[node]['pos']\n",
    "    node_trace['x'].append(x)\n",
    "    node_trace['y'].append(y)\n",
    "    node_trace['z'].append(z)"
   ]
  },
  {
   "cell_type": "code",
   "execution_count": 67,
   "metadata": {
    "collapsed": false
   },
   "outputs": [],
   "source": [
    "for n in G.nodes():\n",
    "    #node_trace['marker']['color'].append(len(adjacencies))\n",
    "    #node_info = '# of connections: '+str(len(adjacencies))\n",
    "    #node_trace['text'].append(node_info)\n",
    "    node_trace['marker']['color'].append(component[n])\n",
    "    node_info = 'id component: '+str(component[n])\n",
    "    node_trace['text'].append(node_info)\n"
   ]
  },
  {
   "cell_type": "code",
   "execution_count": 68,
   "metadata": {
    "collapsed": false
   },
   "outputs": [
    {
     "data": {
      "text/html": [
       "<iframe id=\"igraph\" scrolling=\"no\" style=\"border:none;\" seamless=\"seamless\" src=\"https://plot.ly/~AurelioWildson/2.embed\" height=\"525px\" width=\"100%\"></iframe>"
      ],
      "text/plain": [
       "<plotly.tools.PlotlyDisplay object>"
      ]
     },
     "execution_count": 68,
     "metadata": {},
     "output_type": "execute_result"
    }
   ],
   "source": [
    "fig = Figure(data=Data([edge_trace, node_trace]),\n",
    "             layout=Layout(\n",
    "                title='<br>Network graph made with Python',\n",
    "                titlefont=dict(size=16),\n",
    "                showlegend=False,\n",
    "                hovermode='closest',\n",
    "                margin=dict(b=20,l=5,r=5,t=40),\n",
    "                annotations=[ dict(\n",
    "                    text=\"Python code: <a href='https://plot.ly/ipython-notebooks/network-graphs/'> https://plot.ly/ipython-notebooks/network-graphs/</a>\",\n",
    "                    showarrow=False,\n",
    "                    xref=\"paper\", yref=\"paper\",\n",
    "                    x=0.005, y=-0.002 ) ],\n",
    "                xaxis=XAxis(showgrid=False, zeroline=False, showticklabels=False),\n",
    "                yaxis=YAxis(showgrid=False, zeroline=False, showticklabels=False)))\n",
    "\n",
    "py.iplot(fig, filename='networkx')"
   ]
  },
  {
   "cell_type": "code",
   "execution_count": null,
   "metadata": {
    "collapsed": true
   },
   "outputs": [],
   "source": []
  },
  {
   "cell_type": "code",
   "execution_count": null,
   "metadata": {
    "collapsed": true
   },
   "outputs": [],
   "source": []
  }
 ],
 "metadata": {
  "kernelspec": {
   "display_name": "Python 2",
   "language": "python",
   "name": "python2"
  },
  "language_info": {
   "codemirror_mode": {
    "name": "ipython",
    "version": 2
   },
   "file_extension": ".py",
   "mimetype": "text/x-python",
   "name": "python",
   "nbconvert_exporter": "python",
   "pygments_lexer": "ipython2",
   "version": "2.7.11"
  }
 },
 "nbformat": 4,
 "nbformat_minor": 0
}
